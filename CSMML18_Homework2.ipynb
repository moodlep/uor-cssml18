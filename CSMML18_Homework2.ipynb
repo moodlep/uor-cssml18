{
  "nbformat": 4,
  "nbformat_minor": 0,
  "metadata": {
    "colab": {
      "name": "CSMML18 Homework2.ipynb",
      "version": "0.3.2",
      "provenance": [],
      "private_outputs": true,
      "include_colab_link": true
    },
    "kernelspec": {
      "name": "python3",
      "display_name": "Python 3"
    }
  },
  "cells": [
    {
      "cell_type": "markdown",
      "metadata": {
        "id": "view-in-github",
        "colab_type": "text"
      },
      "source": [
        "<a href=\"https://colab.research.google.com/github/moodlep/uor-cssml18/blob/master/CSMML18_Homework2.ipynb\" target=\"_parent\"><img src=\"https://colab.research.google.com/assets/colab-badge.svg\" alt=\"Open In Colab\"/></a>"
      ]
    },
    {
      "metadata": {
        "id": "ngLarV_a6F7l",
        "colab_type": "text"
      },
      "cell_type": "markdown",
      "source": [
        "## PNNs\n",
        "\n",
        "Suppose that we are given a data set consisting of points $x_{i,j}$ from two classes respectively, where $j = 1, 2$, denotes class label, and $i$ denotes the data index. \n",
        "\n",
        "(a) Determine the class label for a new data point $x = 1.5$ using a probabilistic neural network, with the Gaussian function as window function and $\\sigma = 1$. \n",
        "\n",
        "(b) How do you find the classification decision boundary of the probabilistic neural network used in (a)? \n",
        "\n",
        "The data set is as follows: \\\\\n",
        "Class 1: {1, 2, 0.5} \\\\\n",
        "Class 2: {2, 3, 3.5}\n",
        "\n",
        "Approach: \\\\\n",
        "\n",
        "* Recall Parzen's formula for density estimation using a Gaussian: \n",
        "\n",
        "$$p(x) = \\frac{1}{n} \\sum_{i=1}^n  \\frac{1}{\\sqrt {2\\pi}σ} exp \\left( −\\frac{(x_i − x)^2}{2σ^2} \\right) $$\n",
        "\n",
        "* Write out the function for each class\n",
        "* Pass the new data point in and get a score for each class\n",
        "* Compare and select a class \n",
        "\n",
        "### Resources: \n",
        "* A nice basic [article](https://www.cse.unr.edu/~looney/cs773b/PNNtutorial.pdf) on the architecture."
      ]
    },
    {
      "metadata": {
        "id": "vxcyPDaF-_W0",
        "colab_type": "code",
        "colab": {}
      },
      "cell_type": "code",
      "source": [
        "import numpy as np\n",
        "import matplotlib.pyplot as plt\n",
        "\n",
        "#c0=np.array([-1,-2,-0.5])\n",
        "c0=np.array([1,2,0.5])\n",
        "c1=np.array([2,3,3.5])\n",
        "\n",
        "x = 1.5\n",
        "\n",
        "p0= 1/3 * (np.exp(-(x-c0[0])**2/2)  +  np.exp(-(x-c0[1])**2/2) +  np.exp(-(x-c0[2])**2/2))\n",
        "p1= 1/3 * (np.exp(-(x-c1[0])**2/2)  +  np.exp(-(x-c1[1])**2/2) +  np.exp(-(x-c1[2])**2/2))\n",
        "\n",
        "# p0= 1/(3*np.sqrt(2*np.pi)) * (np.exp(-(x-c0[0])**2/2)  +  np.exp(-(x-c0[1])**2/2) +  np.exp(-(x-c0[2])**2/2))\n",
        "# p1= 1/(3*np.sqrt(2*np.pi)) * (np.exp(-(x-c1[0])**2/2)  +  np.exp(-(x-c1[1])**2/2) +  np.exp(-(x-c1[2])**2/2))\n",
        "\n",
        "print(p0, p1)\n",
        "print(\"Class is \", np.argmax((p0,p1)))\n",
        "\n",
        "\n"
      ],
      "execution_count": 0,
      "outputs": []
    },
    {
      "metadata": {
        "id": "uN9t-Ef8wy6_",
        "colab_type": "text"
      },
      "cell_type": "markdown",
      "source": [
        "## Linear Discriminant Functions\n",
        "\n",
        "Key points: \\\\\n",
        "* Geometric interpretation of the function and the decision boundary\n",
        "* Plotting the boundary function\n",
        "* Some additional things to remember: \n",
        "\n",
        "Euclidean norm : $||w||_2 = \\sqrt {\\sum_{i=1}^n w_i^2} = \\sqrt{w^tw}$ for a vector w\n",
        "\n",
        "####Exercise: \n",
        "\n",
        "Given $w = [1, 2]^T, w_0 = 0.5$ , find $g(x) = w^Tx +w_0$ for: \\\\\n",
        "(a) $x = [−1, 2]^T$;  \\\\\n",
        "(b) $x = [−1, 1]^T$ and \\\\\n",
        "(c) $x = [1, −1]^T$ \\\\\n",
        "\n",
        "respectively. Plot g(x) = 0. Indicate two half planes with g(x) > 0, and g(x) < 0.\n",
        "\n",
        "####Approach: \n",
        "\n",
        "Expand $g(x)$ using the information provided for both the calculations and for plotting: \n",
        "\n",
        "(a) $g(x) = x_1 + 2x_2 + 0.5$\n",
        "Substitute and calc. \n",
        "\n",
        "To plot, we know $g = 0$ at the boundary. Set each of $x_1$ and $x_2$ to zero and plot. \n",
        "\n",
        "\n",
        "Reference: Bishop - page 181\n"
      ]
    }
  ]
}