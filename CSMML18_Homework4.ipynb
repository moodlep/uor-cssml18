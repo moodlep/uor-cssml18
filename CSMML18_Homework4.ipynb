{
  "nbformat": 4,
  "nbformat_minor": 0,
  "metadata": {
    "colab": {
      "name": "CSMML18 Homework4.ipynb",
      "version": "0.3.2",
      "provenance": [],
      "private_outputs": true,
      "include_colab_link": true
    },
    "kernelspec": {
      "name": "python3",
      "display_name": "Python 3"
    }
  },
  "cells": [
    {
      "cell_type": "markdown",
      "metadata": {
        "id": "view-in-github",
        "colab_type": "text"
      },
      "source": [
        "<a href=\"https://colab.research.google.com/github/moodlep/uor-cssml18/blob/master/CSMML18_Homework4.ipynb\" target=\"_parent\"><img src=\"https://colab.research.google.com/assets/colab-badge.svg\" alt=\"Open In Colab\"/></a>"
      ]
    },
    {
      "metadata": {
        "id": "UZqJF9_Pbch_",
        "colab_type": "text"
      },
      "cell_type": "markdown",
      "source": [
        "## KKT\n",
        "\n",
        "Minimise $f(x)$ subject to $h(x) = 0, g(x) ≤ 0$\n",
        "\n",
        "\n",
        "### Q2 Expanded\n",
        "Find the solution of min $f(x, y) = x^2 + y − 1$ , subject to $x + y ≥ 5$.\n",
        "\n",
        "####Approach\n",
        "\n",
        "* Write the problem out in the standard form \n",
        "\n",
        "min $f(x, y) = x^2 + y − 1$ , s.t. $g(x,y) = -x - y +5 ≤ 0$.\n",
        "\n",
        "1 - $\\mu ≥ 0$  we only have one constraint\n",
        "\n",
        "2 - $Df + \\mu Dg = 0 $\n",
        "\n",
        "3 - $\\mu g = 0$\n",
        "\n",
        "* Expand the derivative terms\n",
        "\n",
        "$\\frac{\\partial f}{\\partial x} + \\mu \\frac{\\partial g}{\\partial x} = 0 = 2x - \\mu$ \\\\\n",
        "\n",
        "$\\frac{\\partial f}{\\partial y} + \\mu \\frac{\\partial g}{\\partial y} = 0 = 1-\\mu $ which implies $\\mu = 1$ \\\\\n",
        "\n",
        "* Solve and test the various options. \n",
        "Subst. $\\mu$ back into the equations above and solve for the other parameters. Test if all values hold. "
      ]
    },
    {
      "metadata": {
        "id": "eBN8JEML16dv",
        "colab_type": "text"
      },
      "cell_type": "markdown",
      "source": [
        "## Kernels\n",
        "\n",
        "Refer to Bishop, [Section 6](https://www.microsoft.com/en-us/research/uploads/prod/2006/01/Bishop-Pattern-Recognition-and-Machine-Learning-2006.pdf) for some very clear explanations. \n",
        "\n",
        "###Q4\n",
        "Supposing $x = [x_1, x_2]^T, y = [y_1, y_2]^T$ , determine the feature map for $K(x, y) = (x^Ty + 1)^2$.\n",
        "\n",
        "Approach: \n",
        "\n",
        "* Expand $K(x, y) = (x^Ty + 1)^2$ \n",
        "\n",
        "$K(x, y) = (x^Ty + 1)^2 = ([x_1 x_2]^T[y_1 y_2] + 1)^2 = x_1^2y_1^2 + x_2^2y_2^2 + 2x_1x_2y_1y_2 + 2x_1y_1 + 2x_2y_2 + 1$\n",
        "\n",
        "* Separate out the $x$ and $y$ terms\n",
        "\n",
        "* Compose basis function $\\phi(x)$ and $\\phi(y)$ such that $<\\phi(x), \\phi(y)>$ reproduces the expression above. \\\\\n",
        "$\\phi(x) = [x_1^2, x_2^2, \\sqrt{2} x_1x_2, \\sqrt{2}x_1, \\sqrt{2}x_2, 1]$ \\\\\n",
        "$\\phi(y) = [y_1^2, y_2^2, \\sqrt{2} y_1y_2, \\sqrt{2}y_1, \\sqrt{2}y_2, 1]$\n"
      ]
    },
    {
      "metadata": {
        "id": "kw06WEZsivdo",
        "colab_type": "text"
      },
      "cell_type": "markdown",
      "source": [
        "###Q5 \n",
        "\n",
        "Determine if $K(x, y) = (x^Ty + 1)^2 + exp(−∥x − y∥^2)$ is a kernel\n",
        "\n",
        "We know $K(x, y) = (x^Ty + 1)^2 $ is a kernel and that kernels are modular so just need to show that $exp(−∥x − y∥^2)$ is a kernel. \n",
        "\n",
        "Refer to Bishop: Page 296 for rules related to kernels. For now we use\n",
        "\n",
        "$k(x,x') = f(x)k_1(x,x')f(x')$  [Ref Bishop page 296, eqn 6.14] \\\\\n",
        "$k(x,x') = exp (k_1 (x, x' ))$  [Ref Bishop page 296, eqn 6.16] \\\\\n",
        "Where $k_1(x,x')$ is a kernel. \\\\\n",
        "\n",
        "Starting with $−∥x − y∥^2$, expand to $x^Tx -2x^Ty + y^Ty$ \\\\\n",
        "\n",
        "Subst. into the original \n",
        "\n",
        "$k(x,y) = exp(−∥x − y∥^2) = exp(-x^Tx) exp(2x^Ty) exp(-y^Ty) $ \n",
        "\n",
        "Where $exp(2x^Ty)$ is a linear kernel (using eqn. 6.16) and \n",
        "\n",
        "$k(x,y)$ is in the form of eqn 6.14 above which imples it is a kernel. \n",
        "\n"
      ]
    },
    {
      "metadata": {
        "id": "aoY_BTUXHbj0",
        "colab_type": "text"
      },
      "cell_type": "markdown",
      "source": [
        "## Resources\n",
        "\n",
        "* Kernels - a basic [overview](https://www.cs.princeton.edu/~bee/courses/scribe/lec_10_09_2013.pdf) \n",
        "* Kernels - a slightly more complete [overview](http://www.gatsby.ucl.ac.uk/~gretton/coursefiles/lecture4_introToRKHS.pdf). \n"
      ]
    }
  ]
}